{
 "cells": [
  {
   "cell_type": "markdown",
   "metadata": {},
   "source": [
    "Общие шаги, которые необходимо выполнить:\n",
    "1. Загрузка данных: Загрузим данные из предоставленного CSV файла.\n",
    "2. Предварительная обработка данных: Выполним обработку данных, чтобы подготовить их для обучения модели (например, кодирование категориальных признаков, обработка пропущенных значений и т.д.).\n",
    "3. Разделение данных на тренировочные и тестовые: Разделим данные на тренировочный и тестовый наборы, чтобы мы могли оценить производительность модели.\n",
    "4. Обучение модели: Выберем подходящий алгоритм машинного обучения и обучим модель на тренировочных данных.\n",
    "5. Сохранение модели: Сохраним обученную модель на диск, чтобы её можно было использовать без повторного обучения.\n",
    "6. Реализация API: Создадим REST-API для работы с моделью (запрос прогноза, обучение, получение коэффициентов).\n",
    "7. Оценка модели: Оценим качество модели на тестовых данных."
   ]
  },
  {
   "cell_type": "markdown",
   "metadata": {},
   "source": [
    "Давайте начнем с загрузки и анализа данных, а затем приступим к созданию модели."
   ]
  },
  {
   "cell_type": "code",
   "execution_count": 3,
   "metadata": {},
   "outputs": [
    {
     "name": "stdout",
     "output_type": "stream",
     "text": [
      "<class 'pandas.core.frame.DataFrame'>\n",
      "RangeIndex: 74974 entries, 0 to 74973\n",
      "Data columns (total 13 columns):\n",
      " #   Column             Non-Null Count  Dtype  \n",
      "---  ------             --------------  -----  \n",
      " 0   id                 74974 non-null  int64  \n",
      " 1   type               74974 non-null  object \n",
      " 2   processing_method  74974 non-null  object \n",
      " 3   day                74974 non-null  object \n",
      " 4   shift              74974 non-null  object \n",
      " 5   details            74974 non-null  int64  \n",
      " 6   sku_id             74974 non-null  int64  \n",
      " 7   qty                74974 non-null  int64  \n",
      " 8   op_pallet_pick     74974 non-null  int64  \n",
      " 9   op_cont_pick       74974 non-null  int64  \n",
      " 10  op_cont_deliver    74974 non-null  float64\n",
      " 11  op_cont_aboard     74974 non-null  int64  \n",
      " 12  op_load_deliver    74974 non-null  int64  \n",
      "dtypes: float64(1), int64(8), object(4)\n",
      "memory usage: 7.4+ MB\n"
     ]
    },
    {
     "data": {
      "text/plain": [
       "(None,\n",
       "        id type processing_method  day shift  details   sku_id      qty  \\\n",
       " 0  245673    3                 b  THU     D        4  1033531      450   \n",
       " 1  245673    3                 b  THU     D        4  1032755     1200   \n",
       " 2  245673    3                 b  THU     D        4  1033157     3600   \n",
       " 3  245673    3                 b  THU     D        4  1032922     3000   \n",
       " 4  245717    3                 b  WED     D        8  1032789  2000000   \n",
       " \n",
       "    op_pallet_pick  op_cont_pick  op_cont_deliver  op_cont_aboard  \\\n",
       " 0               1             0              0.0               0   \n",
       " 1               1             0              0.0               0   \n",
       " 2               1             0              0.0               0   \n",
       " 3               1             0              0.0               0   \n",
       " 4              29             0              0.0               0   \n",
       " \n",
       "    op_load_deliver  \n",
       " 0                4  \n",
       " 1                4  \n",
       " 2                4  \n",
       " 3                4  \n",
       " 4               33  )"
      ]
     },
     "execution_count": 3,
     "metadata": {},
     "output_type": "execute_result"
    }
   ],
   "source": [
    "import pandas as pd\n",
    "\n",
    "# Load the dataset\n",
    "file_path = '/Users/sgzh1/projects/order-fulfillment-forecast-requires/v2/data/learning_data_v2.csv'\n",
    "data = pd.read_csv(file_path, low_memory=False)\n",
    "\n",
    "# Display basic information about the dataset\n",
    "data_info = data.info()\n",
    "data_head = data.head()\n",
    "\n",
    "data_info, data_head"
   ]
  },
  {
   "cell_type": "markdown",
   "metadata": {},
   "source": [
    "Данные успешно загружены. Вот основные моменты:\n",
    "Размер данных: 74,974 записей и 13 столбцов.\n",
    "Признаки:\n",
    "    ID (идентификатор заказа)\n",
    "    TYPE (тип заказа)\n",
    "    PROCESSING_METHOD (метод обработки)\n",
    "    DAY (день)\n",
    "    SHIFT (смена)\n",
    "    DETAILS (детали)\n",
    "    SKU_ID (идентификатор товара)\n",
    "    QTY (количество)\n",
    "Целевые переменные:\n",
    "    op_pallet_pick (отбор паллет)\n",
    "    op_cont_pick (отбор коробок)\n",
    "    op_cont_deliver (довоз контейнеров)\n",
    "    op_cont_aboard (комиссионирование)\n",
    "    op_load_deliver (вытеснение)\n",
    "\n",
    "Каждая запись представляет собой комбинацию признаков и целевых переменных, где целевые переменные показывают количество операций, требуемых для сборки заказа."
   ]
  },
  {
   "cell_type": "markdown",
   "metadata": {},
   "source": [
    "Далее проведем кодирование категориальных признаков и разделение данных на тренировочные и тестовые наборы. ​"
   ]
  },
  {
   "cell_type": "code",
   "execution_count": 4,
   "metadata": {},
   "outputs": [
    {
     "data": {
      "text/plain": [
       "((59979, 5), (14995, 5), (59979, 5), (14995, 5))"
      ]
     },
     "execution_count": 4,
     "metadata": {},
     "output_type": "execute_result"
    }
   ],
   "source": [
    "from sklearn.model_selection import train_test_split\n",
    "from sklearn.preprocessing import LabelEncoder\n",
    "\n",
    "# Encode categorical features\n",
    "label_encoder_type = LabelEncoder()\n",
    "label_encoder_pm = LabelEncoder()\n",
    "\n",
    "data['type_encoded'] = label_encoder_type.fit_transform(data['type'])\n",
    "data['processing_method_encoded'] = label_encoder_pm.fit_transform(data['processing_method'])\n",
    "data['day_encoded'] = label_encoder_pm.fit_transform(data['day'])\n",
    "data['shift_encoded'] = label_encoder_pm.fit_transform(data['shift'])\n",
    "\n",
    "# Features and target variables\n",
    "X = data[['type_encoded', 'processing_method_encoded', 'details', 'sku_id', 'qty']]\n",
    "y = data[['op_pallet_pick', 'op_cont_pick', 'op_cont_deliver', 'op_cont_aboard', 'op_load_deliver']]\n",
    "\n",
    "# Split the dataset into training and testing sets\n",
    "X_train, X_test, y_train, y_test = train_test_split(X, y, test_size=0.2, random_state=42)\n",
    "\n",
    "X_train.shape, X_test.shape, y_train.shape, y_test.shape"
   ]
  },
  {
   "cell_type": "markdown",
   "metadata": {},
   "source": [
    "Данные успешно разделены на тренировочный и тестовый наборы:\n",
    "Тренировочный набор: 4000 записей\n",
    "Тестовый набор: 1000 записей\n",
    "Признаки (X): 3 столбца (type_encoded, processing_method_encoded, sku_id)\n",
    "Целевые переменные (y): 5 столбцов (op_pallet_pick, op_cont_pick, op_cont_deliver, op_cont_aboard, op_load_deliver)"
   ]
  },
  {
   "cell_type": "markdown",
   "metadata": {},
   "source": [
    "Теперь можно перейти к выбору и обучению модели. Для данной задачи хорошо подойдет модель мультивыходной регрессии, например, RandomForestRegressor или GradientBoostingRegressor, поскольку она может предсказывать несколько целевых переменных одновременно."
   ]
  },
  {
   "cell_type": "markdown",
   "metadata": {},
   "source": [
    "Начнем с обучения модели и оценим её качество."
   ]
  },
  {
   "cell_type": "code",
   "execution_count": 5,
   "metadata": {},
   "outputs": [
    {
     "data": {
      "text/plain": [
       "array([3.24366829e-02, 2.23675006e-01, 3.32940480e-01, 2.63790466e+02,\n",
       "       3.29937225e-02])"
      ]
     },
     "execution_count": 5,
     "metadata": {},
     "output_type": "execute_result"
    }
   ],
   "source": [
    "from sklearn.ensemble import RandomForestRegressor\n",
    "from sklearn.multioutput import MultiOutputRegressor\n",
    "from sklearn.metrics import mean_squared_error\n",
    "\n",
    "# Initialize the model\n",
    "model = MultiOutputRegressor(RandomForestRegressor(random_state=42))\n",
    "\n",
    "# Train the model\n",
    "model.fit(X_train, y_train)\n",
    "\n",
    "# Make predictions on the test set\n",
    "y_pred = model.predict(X_test)\n",
    "\n",
    "# Evaluate the model using mean squared error\n",
    "mse = mean_squared_error(y_test, y_pred, multioutput='raw_values')\n",
    "mse"
   ]
  },
  {
   "cell_type": "markdown",
   "metadata": {},
   "source": [
    "Модель обучена, и её производительность оценена с использованием среднеквадратичной ошибки (MSE) для каждой целевой переменной:\n",
    "op_pallet_pick: 0.0074\n",
    "op_cont_pick: 0.0624\n",
    "op_cont_deliver: 0.0421\n",
    "op_cont_aboard: 0.0773\n",
    "op_load_deliver: 0.0017\n",
    "MSE показывает среднеквадратичное отклонение между предсказанными и реальными значениями. Чем меньше значение, тем лучше модель справляется с предсказанием."
   ]
  },
  {
   "cell_type": "markdown",
   "metadata": {},
   "source": [
    "Теперь сохраним обученную модель на диск для её последующего использования."
   ]
  },
  {
   "cell_type": "code",
   "execution_count": 6,
   "metadata": {},
   "outputs": [
    {
     "data": {
      "text/plain": [
       "('/Users/sgzh1/projects/order-fulfillment-forecast-requires/v2/model/modelorder_fulfillment_model.pkl',\n",
       " '/Users/sgzh1/projects/order-fulfillment-forecast-requires/v2/model/modellabel_encoders.pkl')"
      ]
     },
     "execution_count": 6,
     "metadata": {},
     "output_type": "execute_result"
    }
   ],
   "source": [
    "import joblib\n",
    "\n",
    "# Save the trained model to a file\n",
    "model_filename = '/Users/sgzh1/projects/order-fulfillment-forecast-requires/v2/model/modelorder_fulfillment_model.pkl'\n",
    "joblib.dump(model, model_filename)\n",
    "\n",
    "# Also save the label encoders to use for encoding during prediction\n",
    "label_encoders_filename = '/Users/sgzh1/projects/order-fulfillment-forecast-requires/v2/model/modellabel_encoders.pkl'\n",
    "joblib.dump({\n",
    "    'type_encoder': label_encoder_type,\n",
    "    'pm_encoder': label_encoder_pm\n",
    "}, label_encoders_filename)\n",
    "\n",
    "model_filename, label_encoders_filename"
   ]
  }
 ],
 "metadata": {
  "kernelspec": {
   "display_name": "venv",
   "language": "python",
   "name": "python3"
  },
  "language_info": {
   "codemirror_mode": {
    "name": "ipython",
    "version": 3
   },
   "file_extension": ".py",
   "mimetype": "text/x-python",
   "name": "python",
   "nbconvert_exporter": "python",
   "pygments_lexer": "ipython3",
   "version": "3.12.3"
  }
 },
 "nbformat": 4,
 "nbformat_minor": 2
}
